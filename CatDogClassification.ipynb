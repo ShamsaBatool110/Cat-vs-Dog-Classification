{
  "cells": [
    {
      "cell_type": "markdown",
      "metadata": {
        "id": "zpxfhoaRJRqa"
      },
      "source": [
        "\n",
        "## Cat Dog Classification with Data Augmentation & CNNs"
      ]
    },
    {
      "cell_type": "code",
      "execution_count": null,
      "metadata": {
        "id": "VOfnBz3ZJRqa"
      },
      "outputs": [],
      "source": [
        "#Importing libraries\n",
        "import matplotlib.pyplot as plt\n",
        "import numpy as np\n",
        "import os\n",
        "import shutil\n",
        "import sys\n",
        "from glob import glob\n",
        "from keras.preprocessing import image\n",
        "from tensorflow.keras.preprocessing import image\n",
        "from keras.preprocessing.image import ImageDataGenerator\n",
        "from tensorflow.keras.models import Sequential\n",
        "from tensorflow.keras.layers import Conv2D, MaxPool2D\n",
        "from tensorflow.keras.layers import Activation, Dropout, Flatten, Dense, Input\n",
        "from tensorflow.keras.callbacks import EarlyStopping, ModelCheckpoint\n",
        "from glob import glob\n",
        "from tensorflow.keras.preprocessing import image\n",
        "from tensorflow.keras.utils import plot_model"
      ]
    },
    {
      "cell_type": "markdown",
      "metadata": {
        "id": "DSsLBch-trqt"
      },
      "source": [
        "## Part 1: Importing the dataset from Kaggle\n",
        "\n",
        "Before we start, lets get some of the basic steps cleared: <br>\n",
        "<h5> 1. Create a Kaggle account</h5>\n",
        "\n",
        "- Create an account on Kaggle.com - this is mandatory, since we will be accessing the dataset from Kaggle directly in Google Colab.\n",
        "- Next go to the link given : https://www.kaggle.com/c/dogs-vs-cats/data. This is the dataset we will be using for this lab. Go to teams and enter a team name(Random - this is not a Kaggle contest)\n",
        "\n",
        "<h5> 2. Get the dataset to Google colab</h5>\n",
        "\n",
        "- On your account on Kaggle - top right corner of the page [Profile , **Account**, Sign Out] - Click on account and scroll down to APIs. \n",
        "- Here create a new API token - you should get an option to download a **kaggle.json** file"
      ]
    },
    {
      "cell_type": "code",
      "execution_count": null,
      "metadata": {
        "id": "RmQoValy1qie"
      },
      "outputs": [],
      "source": [
        "#Install kaggle\n",
        "! pip install -q kaggle"
      ]
    },
    {
      "cell_type": "code",
      "execution_count": null,
      "metadata": {
        "colab": {
          "base_uri": "https://localhost:8080/",
          "height": 90
        },
        "id": "paWETkCf1unt",
        "outputId": "93eacd94-e853-49b2-c79a-5882477f36c4"
      },
      "outputs": [
        {
          "output_type": "display_data",
          "data": {
            "text/plain": [
              "<IPython.core.display.HTML object>"
            ],
            "text/html": [
              "\n",
              "     <input type=\"file\" id=\"files-0b11f853-2245-46dd-8dcf-6adfceb60746\" name=\"files[]\" multiple disabled\n",
              "        style=\"border:none\" />\n",
              "     <output id=\"result-0b11f853-2245-46dd-8dcf-6adfceb60746\">\n",
              "      Upload widget is only available when the cell has been executed in the\n",
              "      current browser session. Please rerun this cell to enable.\n",
              "      </output>\n",
              "      <script>// Copyright 2017 Google LLC\n",
              "//\n",
              "// Licensed under the Apache License, Version 2.0 (the \"License\");\n",
              "// you may not use this file except in compliance with the License.\n",
              "// You may obtain a copy of the License at\n",
              "//\n",
              "//      http://www.apache.org/licenses/LICENSE-2.0\n",
              "//\n",
              "// Unless required by applicable law or agreed to in writing, software\n",
              "// distributed under the License is distributed on an \"AS IS\" BASIS,\n",
              "// WITHOUT WARRANTIES OR CONDITIONS OF ANY KIND, either express or implied.\n",
              "// See the License for the specific language governing permissions and\n",
              "// limitations under the License.\n",
              "\n",
              "/**\n",
              " * @fileoverview Helpers for google.colab Python module.\n",
              " */\n",
              "(function(scope) {\n",
              "function span(text, styleAttributes = {}) {\n",
              "  const element = document.createElement('span');\n",
              "  element.textContent = text;\n",
              "  for (const key of Object.keys(styleAttributes)) {\n",
              "    element.style[key] = styleAttributes[key];\n",
              "  }\n",
              "  return element;\n",
              "}\n",
              "\n",
              "// Max number of bytes which will be uploaded at a time.\n",
              "const MAX_PAYLOAD_SIZE = 100 * 1024;\n",
              "\n",
              "function _uploadFiles(inputId, outputId) {\n",
              "  const steps = uploadFilesStep(inputId, outputId);\n",
              "  const outputElement = document.getElementById(outputId);\n",
              "  // Cache steps on the outputElement to make it available for the next call\n",
              "  // to uploadFilesContinue from Python.\n",
              "  outputElement.steps = steps;\n",
              "\n",
              "  return _uploadFilesContinue(outputId);\n",
              "}\n",
              "\n",
              "// This is roughly an async generator (not supported in the browser yet),\n",
              "// where there are multiple asynchronous steps and the Python side is going\n",
              "// to poll for completion of each step.\n",
              "// This uses a Promise to block the python side on completion of each step,\n",
              "// then passes the result of the previous step as the input to the next step.\n",
              "function _uploadFilesContinue(outputId) {\n",
              "  const outputElement = document.getElementById(outputId);\n",
              "  const steps = outputElement.steps;\n",
              "\n",
              "  const next = steps.next(outputElement.lastPromiseValue);\n",
              "  return Promise.resolve(next.value.promise).then((value) => {\n",
              "    // Cache the last promise value to make it available to the next\n",
              "    // step of the generator.\n",
              "    outputElement.lastPromiseValue = value;\n",
              "    return next.value.response;\n",
              "  });\n",
              "}\n",
              "\n",
              "/**\n",
              " * Generator function which is called between each async step of the upload\n",
              " * process.\n",
              " * @param {string} inputId Element ID of the input file picker element.\n",
              " * @param {string} outputId Element ID of the output display.\n",
              " * @return {!Iterable<!Object>} Iterable of next steps.\n",
              " */\n",
              "function* uploadFilesStep(inputId, outputId) {\n",
              "  const inputElement = document.getElementById(inputId);\n",
              "  inputElement.disabled = false;\n",
              "\n",
              "  const outputElement = document.getElementById(outputId);\n",
              "  outputElement.innerHTML = '';\n",
              "\n",
              "  const pickedPromise = new Promise((resolve) => {\n",
              "    inputElement.addEventListener('change', (e) => {\n",
              "      resolve(e.target.files);\n",
              "    });\n",
              "  });\n",
              "\n",
              "  const cancel = document.createElement('button');\n",
              "  inputElement.parentElement.appendChild(cancel);\n",
              "  cancel.textContent = 'Cancel upload';\n",
              "  const cancelPromise = new Promise((resolve) => {\n",
              "    cancel.onclick = () => {\n",
              "      resolve(null);\n",
              "    };\n",
              "  });\n",
              "\n",
              "  // Wait for the user to pick the files.\n",
              "  const files = yield {\n",
              "    promise: Promise.race([pickedPromise, cancelPromise]),\n",
              "    response: {\n",
              "      action: 'starting',\n",
              "    }\n",
              "  };\n",
              "\n",
              "  cancel.remove();\n",
              "\n",
              "  // Disable the input element since further picks are not allowed.\n",
              "  inputElement.disabled = true;\n",
              "\n",
              "  if (!files) {\n",
              "    return {\n",
              "      response: {\n",
              "        action: 'complete',\n",
              "      }\n",
              "    };\n",
              "  }\n",
              "\n",
              "  for (const file of files) {\n",
              "    const li = document.createElement('li');\n",
              "    li.append(span(file.name, {fontWeight: 'bold'}));\n",
              "    li.append(span(\n",
              "        `(${file.type || 'n/a'}) - ${file.size} bytes, ` +\n",
              "        `last modified: ${\n",
              "            file.lastModifiedDate ? file.lastModifiedDate.toLocaleDateString() :\n",
              "                                    'n/a'} - `));\n",
              "    const percent = span('0% done');\n",
              "    li.appendChild(percent);\n",
              "\n",
              "    outputElement.appendChild(li);\n",
              "\n",
              "    const fileDataPromise = new Promise((resolve) => {\n",
              "      const reader = new FileReader();\n",
              "      reader.onload = (e) => {\n",
              "        resolve(e.target.result);\n",
              "      };\n",
              "      reader.readAsArrayBuffer(file);\n",
              "    });\n",
              "    // Wait for the data to be ready.\n",
              "    let fileData = yield {\n",
              "      promise: fileDataPromise,\n",
              "      response: {\n",
              "        action: 'continue',\n",
              "      }\n",
              "    };\n",
              "\n",
              "    // Use a chunked sending to avoid message size limits. See b/62115660.\n",
              "    let position = 0;\n",
              "    do {\n",
              "      const length = Math.min(fileData.byteLength - position, MAX_PAYLOAD_SIZE);\n",
              "      const chunk = new Uint8Array(fileData, position, length);\n",
              "      position += length;\n",
              "\n",
              "      const base64 = btoa(String.fromCharCode.apply(null, chunk));\n",
              "      yield {\n",
              "        response: {\n",
              "          action: 'append',\n",
              "          file: file.name,\n",
              "          data: base64,\n",
              "        },\n",
              "      };\n",
              "\n",
              "      let percentDone = fileData.byteLength === 0 ?\n",
              "          100 :\n",
              "          Math.round((position / fileData.byteLength) * 100);\n",
              "      percent.textContent = `${percentDone}% done`;\n",
              "\n",
              "    } while (position < fileData.byteLength);\n",
              "  }\n",
              "\n",
              "  // All done.\n",
              "  yield {\n",
              "    response: {\n",
              "      action: 'complete',\n",
              "    }\n",
              "  };\n",
              "}\n",
              "\n",
              "scope.google = scope.google || {};\n",
              "scope.google.colab = scope.google.colab || {};\n",
              "scope.google.colab._files = {\n",
              "  _uploadFiles,\n",
              "  _uploadFilesContinue,\n",
              "};\n",
              "})(self);\n",
              "</script> "
            ]
          },
          "metadata": {}
        },
        {
          "output_type": "stream",
          "name": "stdout",
          "text": [
            "Saving kaggle.json to kaggle.json\n"
          ]
        },
        {
          "output_type": "execute_result",
          "data": {
            "text/plain": [
              "{'kaggle.json': b'{\"username\":\"shamsabatool\",\"key\":\"17ea57f8de729479721e8d62d6f134ef\"}'}"
            ]
          },
          "metadata": {},
          "execution_count": 3
        }
      ],
      "source": [
        "#Upload the kaggle.json file you just downloaded\n",
        "from google.colab import files\n",
        "files.upload()"
      ]
    },
    {
      "cell_type": "code",
      "execution_count": null,
      "metadata": {
        "id": "SBtjUdLkH6Mb"
      },
      "outputs": [],
      "source": [
        "#Make directory named kaggle \n",
        "!mkdir ~/.kaggle"
      ]
    },
    {
      "cell_type": "code",
      "execution_count": null,
      "metadata": {
        "id": "dpeTX5eUPA1S"
      },
      "outputs": [],
      "source": [
        "# copy kaggle.json file there.\n",
        "! cp kaggle.json ~/.kaggle/"
      ]
    },
    {
      "cell_type": "code",
      "execution_count": null,
      "metadata": {
        "id": "So2XADshPM9l"
      },
      "outputs": [],
      "source": [
        "#change the permissions of the file\n",
        "! chmod 600 ~/.kaggle/kaggle.json "
      ]
    },
    {
      "cell_type": "code",
      "execution_count": null,
      "metadata": {
        "id": "980e7Pevtrq0"
      },
      "outputs": [],
      "source": [
        "# Download the dataset zip in this location \n",
        "DATA_DIR = '../data'\n",
        "IMAGE_DIR = '../data/images'\n",
        "!mkdir ../data\n",
        "!mkdir ../data/dogs-vs-cats\n",
        "!mkdir ../data/images"
      ]
    },
    {
      "cell_type": "code",
      "execution_count": null,
      "metadata": {
        "colab": {
          "base_uri": "https://localhost:8080/"
        },
        "id": "Jow5huM6trq2",
        "outputId": "2bfc3cfd-c70e-40df-d4d0-affbb1c3d25c"
      },
      "outputs": [
        {
          "output_type": "stream",
          "name": "stdout",
          "text": [
            "Downloading dogs-vs-cats.zip to ../data\n",
            " 98% 796M/812M [00:03<00:00, 229MB/s]\n",
            "100% 812M/812M [00:03<00:00, 260MB/s]\n"
          ]
        }
      ],
      "source": [
        "#downloading the dataset from Kaggle\n",
        "!kaggle competitions download -c dogs-vs-cats -p {DATA_DIR}"
      ]
    },
    {
      "cell_type": "markdown",
      "metadata": {
        "id": "B9NjkXFWtrq6"
      },
      "source": [
        "Unzip the file and delete the other unnecessary files and original zip."
      ]
    },
    {
      "cell_type": "code",
      "execution_count": null,
      "metadata": {
        "id": "tcJL_i0Ltrq9"
      },
      "outputs": [],
      "source": [
        "# Unzipping\n",
        "shutil.unpack_archive(os.path.join(DATA_DIR,'dogs-vs-cats.zip'),DATA_DIR)\n",
        "os.remove(os.path.join(DATA_DIR,'dogs-vs-cats.zip'))\n",
        "# changing the data directory to KAGGLE_DIR\n",
        "KAGGLE_DIR = os.path.join(DATA_DIR, 'dogs-vs-cats')\n",
        "shutil.unpack_archive(os.path.join(DATA_DIR,'train.zip'),IMAGE_DIR)\n",
        "os.remove(os.path.join(DATA_DIR,'train.zip'))\n",
        "shutil.unpack_archive(os.path.join(DATA_DIR,'test1.zip'),DATA_DIR)\n",
        "os.remove(os.path.join(DATA_DIR,'test1.zip'))\n",
        "os.remove(os.path.join(DATA_DIR,'sampleSubmission.csv'))"
      ]
    },
    {
      "cell_type": "markdown",
      "metadata": {
        "id": "CjRt7xUiJRqb"
      },
      "source": [
        "The dogs and cats are all mixed in a single directory. The label is in the file name itself.</br>\n",
        "We need to create:\n",
        "1. Train, validation, and test directories, each containing a subset of the images.\n",
        "2. Separate cat and dog directories _within_ train, validation, and test.\n",
        "\n",
        "Number 2 is necessary because the Keras ImageDataGenerator's flow_from_directory() method infers the class label from the subdirectory the image resides in.\n",
        "\n",
        "Therefore, we need to create a directory structure as seen below:\n"
      ]
    },
    {
      "cell_type": "code",
      "execution_count": null,
      "metadata": {
        "id": "Ss0bRM1_JRqb"
      },
      "outputs": [],
      "source": [
        "# dogs_vs_cats\n",
        "# ├── test\n",
        "# │   ├── cats\n",
        "# │   └── dogs\n",
        "# ├── train\n",
        "# |   ├── cats\n",
        "# |   └── dogs\n",
        "# └── validation\n",
        "#     ├── cats\n",
        "#     └── dogs"
      ]
    },
    {
      "cell_type": "code",
      "execution_count": null,
      "metadata": {
        "id": "jVs_mlB4JRqb"
      },
      "outputs": [],
      "source": [
        "# Create train, validation, and test directories\n",
        "split_dirs = ['train', 'validation', 'test']\n",
        "for split_dir in split_dirs:\n",
        "    # create label subdirectories\n",
        "    label_dirs = ['dogs', 'cats']\n",
        "    for label_dir in label_dirs:\n",
        "        new_dir = os.path.join(KAGGLE_DIR, split_dir, label_dir)\n",
        "        os.makedirs(new_dir, exist_ok=True)"
      ]
    },
    {
      "cell_type": "code",
      "execution_count": null,
      "metadata": {
        "id": "sRZYjLA5JRqb",
        "scrolled": true
      },
      "outputs": [],
      "source": [
        "# copy dataset images into subdirectories based on probability distribution 'p'\n",
        "PERCENT_OF_DATA = 0.1\n",
        "np.random.seed(42)\n",
        "for folder in os.listdir(IMAGE_DIR):\n",
        "  for file in os.listdir(os.path.join(IMAGE_DIR,folder)):\n",
        "    if not file.endswith('.jpg'):\n",
        "        continue # skip over non-image files\n",
        "    src = os.path.join(IMAGE_DIR, folder, file)\n",
        "    if np.random.uniform() > PERCENT_OF_DATA:\n",
        "        os.remove(src)\n",
        "        continue\n",
        "    dst_dir = np.random.choice(['train', 'validation', 'test'], p=[.5, .25, .25])\n",
        "    if file.startswith('cat'):\n",
        "        dst = os.path.join(KAGGLE_DIR, dst_dir, 'cats', file)\n",
        "    elif file.startswith('dog'):\n",
        "        dst = os.path.join(KAGGLE_DIR, dst_dir, 'dogs', file)\n",
        "    try:\n",
        "        shutil.move(src, dst)\n",
        "    except Exception as e:\n",
        "        print(e)\n",
        "#Remove these empty diretories\n",
        "shutil.rmtree(IMAGE_DIR)"
      ]
    },
    {
      "cell_type": "code",
      "execution_count": null,
      "metadata": {
        "colab": {
          "base_uri": "https://localhost:8080/"
        },
        "id": "q2p6mEcAJRqb",
        "outputId": "7c30e28b-c629-46d2-8933-cd7a86602f1e"
      },
      "outputs": [
        {
          "output_type": "stream",
          "name": "stdout",
          "text": [
            "train dogs 639\n",
            "train cats 605\n",
            "validation dogs 333\n",
            "validation cats 323\n",
            "test dogs 313\n",
            "test cats 339\n"
          ]
        }
      ],
      "source": [
        "#Number of images in each subdir\n",
        "for dir_name in split_dirs:\n",
        "    for label_dir in label_dirs:\n",
        "        print(dir_name ,label_dir, len(os.listdir(KAGGLE_DIR + '/' + dir_name + '/' + label_dir)))"
      ]
    },
    {
      "cell_type": "code",
      "execution_count": null,
      "metadata": {
        "colab": {
          "base_uri": "https://localhost:8080/"
        },
        "id": "_zr4G59wJRqb",
        "outputId": "89e4080e-b086-463e-a096-c808cea5bb9c"
      },
      "outputs": [
        {
          "output_type": "stream",
          "name": "stdout",
          "text": [
            "(1, 150, 150, 3)\n"
          ]
        }
      ],
      "source": [
        "# Preprocessing the image into a 4D tensor\n",
        "img_path = glob(KAGGLE_DIR+'/*/*/*.jpg')[0]\n",
        "\n",
        "img = image.load_img(img_path, target_size=(150, 150))\n",
        "img_tensor = image.img_to_array(img)\n",
        "img_tensor = np.expand_dims(img_tensor, axis=0)\n",
        "img_tensor /= 255.\n",
        "\n",
        "print(img_tensor.shape)"
      ]
    },
    {
      "cell_type": "code",
      "execution_count": null,
      "metadata": {
        "colab": {
          "background_save": true
        },
        "id": "wv5dgA_uVHuZ",
        "outputId": "4c7c70bc-3666-488e-d499-361f2b3318c5"
      },
      "outputs": [
        {
          "name": "stdout",
          "output_type": "stream",
          "text": [
            "kaggle.json  sample_data\n"
          ]
        }
      ],
      "source": [
        "!ls"
      ]
    },
    {
      "cell_type": "code",
      "execution_count": null,
      "metadata": {
        "colab": {
          "base_uri": "https://localhost:8080/",
          "height": 269
        },
        "id": "YhNDdr_gJRqb",
        "outputId": "34306da5-2f57-4103-e5ee-fde4374499ec"
      },
      "outputs": [
        {
          "output_type": "display_data",
          "data": {
            "text/plain": [
              "<Figure size 432x288 with 1 Axes>"
            ],
            "image/png": "[encoded data removed]"
          },
          "metadata": {
            "needs_background": "light"
          }
        }
      ],
      "source": [
        "# Displaying an example img\n",
        "plt.imshow(img_tensor[0])\n",
        "plt.show()"
      ]
    },
    {
      "cell_type": "markdown",
      "metadata": {
        "id": "cRk8QDQVwQ6F"
      },
      "source": [
        "## Part 2: Creating the Generators and training a model with only rescaled images"
      ]
    },
    {
      "cell_type": "markdown",
      "metadata": {
        "id": "bPLV0-AeJRqb"
      },
      "source": [
        "<b>Create the Generators</b>\n",
        "\n",
        "Now that we have the data in the correct directory structure we can create the data generators.\n",
        "Yes, that's correct. We will have _multiple_ generators, one for each split directory.<br>\n",
        "\n",
        "\n",
        "First we create a main data generator object, `datagen`. This can be a given a wide range of arguments which can be used to preprocess the images it generates.</br>\n",
        "\n",
        "<b>For right now we will only use the `rescale` argument to normalize all pixel values to between 0 and 1 (remember that 255 is the max pixel value).</b>"
      ]
    },
    {
      "cell_type": "code",
      "execution_count": null,
      "metadata": {
        "colab": {
          "background_save": true
        },
        "id": "ZmO6bBUeJRqb"
      },
      "outputs": [],
      "source": [
        "datagen = ImageDataGenerator(rescale=1/255)"
      ]
    },
    {
      "cell_type": "markdown",
      "metadata": {
        "id": "lpqqealsJRqb"
      },
      "source": [
        "Now we use `datagen`'s `flow_from_directory` method to create the 3 generators: `traingen`, `valgen`, and `testgen`.<br>\n",
        "\n",
        "The function needs to be given the following parameters:<br>\n",
        "- `directory` which they will use as their image source\n",
        "- `target_size` to resize all images to (75,75)\n",
        "- `batch_size`\n",
        "- `class_mode` to instruct the generator on how to interpret the label folders. \n",
        "\n",
        "We should probably also set `shuffle = False` in the test generator so it produces the same images in the same order everytime it is used."
      ]
    },
    {
      "cell_type": "code",
      "execution_count": null,
      "metadata": {
        "colab": {
          "background_save": true
        },
        "id": "L9ZsFxc4JRqb",
        "outputId": "7e495036-4766-4352-f7b7-e403bf29689b"
      },
      "outputs": [
        {
          "name": "stdout",
          "output_type": "stream",
          "text": [
            "Found 1244 images belonging to 2 classes.\n",
            "Found 656 images belonging to 2 classes.\n",
            "Found 652 images belonging to 2 classes.\n"
          ]
        }
      ],
      "source": [
        "batch_size = 16\n",
        "target_size = (75, 75)\n",
        "\n",
        "traingen = datagen.flow_from_directory(directory='/data/dogs-vs-cats/train', target_size=target_size, batch_size=batch_size, class_mode='categorical')\n",
        " \n",
        "valgen = datagen.flow_from_directory(directory='/data/dogs-vs-cats/validation', target_size=target_size, batch_size=batch_size, class_mode='categorical')\n",
        "\n",
        "testgen = datagen.flow_from_directory(directory='/data/dogs-vs-cats/test', target_size=target_size, batch_size=batch_size, class_mode='categorical')"
      ]
    },
    {
      "cell_type": "code",
      "execution_count": null,
      "metadata": {
        "colab": {
          "background_save": true
        },
        "id": "eh0ykTW42BZ2",
        "outputId": "fa69150b-25de-4cab-b92c-7a21c534887d"
      },
      "outputs": [
        {
          "name": "stdout",
          "output_type": "stream",
          "text": [
            "Class Indices: {'cats': 0, 'dogs': 1}\n"
          ]
        }
      ],
      "source": [
        "print(\"Class Indices:\", traingen.class_indices)"
      ]
    },
    {
      "cell_type": "markdown",
      "metadata": {
        "id": "fCSWExdXtrrY"
      },
      "source": [
        "### Construct CNN MODEL\n",
        "\n",
        "- Build the CNN Model, there is no limitation on number of layers or size of the CNN Model, we leave the design choices to you.  For more information on layers :[CNN modelling](https://keras.io/api/layers/convolution_layers/convolution2d/)\n",
        "- Fit the model using Model.fit()\n",
        "- Evaluate your model \n",
        "- Plot your results\n",
        "- Save your model \n",
        "We would love to see these results in Tensorboard along with the computation graph.\n",
        "\n",
        "You can regularize the model as well. For reference: https://keras.io/api/callbacks/"
      ]
    },
    {
      "cell_type": "code",
      "execution_count": null,
      "metadata": {
        "colab": {
          "background_save": true
        },
        "id": "inOd6TwUJRqb"
      },
      "outputs": [],
      "source": [
        "#Creating a CNN\n",
        "CNN = Sequential()\n",
        "\n",
        "CNN.add(Input(shape=(75, 75, 3)))\n",
        "\n",
        "#Specify a list of the number of filters for each convolutional layer\n",
        "\n",
        "for n_filters in [16, 32, 64]:\n",
        "    CNN.add(Conv2D(n_filters,strides=(2, 2), kernel_size=3, activation='relu'))\n",
        "\n",
        "# Fill in the layer needed between our 2d convolutional layers and the dense layer\n",
        "CNN.add(Flatten())\n",
        "\n",
        "#Specify the number of nodes in the dense layer before the output\n",
        "CNN.add(Dense(128, activation='relu'))\n",
        "\n",
        "#Specify the output layer\n",
        "CNN.add(Dense(2, activation='softmax'))\n",
        " \n",
        "#Compiling the model\n",
        "CNN.compile(loss='categorical_crossentropy', metrics=['accuracy'], optimizer='adam')\n",
        "\n",
        "\n",
        "\n"
      ]
    },
    {
      "cell_type": "markdown",
      "metadata": {
        "id": "MhI4M3V3yyuY"
      },
      "source": [
        "**Plot Model Diagram**"
      ]
    },
    {
      "cell_type": "code",
      "execution_count": null,
      "metadata": {
        "colab": {
          "background_save": true
        },
        "id": "1BhTI2PByxsz",
        "outputId": "8da0b54f-cd97-4cc0-e1b0-439bd5c8ca50"
      },
      "outputs": [
        {
          "data": {
            "image/png": "[encoded data removed]",
            "text/plain": [
              "<IPython.core.display.Image object>"
            ]
          },
          "execution_count": 21,
          "metadata": {},
          "output_type": "execute_result"
        }
      ],
      "source": [
        "plot_model(CNN, show_shapes=True, show_layer_names=False, dpi=60)"
      ]
    },
    {
      "cell_type": "markdown",
      "metadata": {
        "id": "JShV77UDJRqc"
      },
      "source": [
        "<b>Fit Model</b>\n",
        "\n",
        "Let’s fit the model to the data using the generator. You can use `fit` as before but this time you will pass it generators rather than dataframes or numpy arrays.  \n",
        "\n",
        "Because the data is being generated endlessly, the Keras model needs to know how many samples to draw from the generator before declaring an epoch over. This is the role of the `steps_per_epoch` argument: after having drawn steps_per_epoch batches from the generator—that is, after having run for steps_per_epoch gradient descent steps - the fitting process will go to the next epoch. \n",
        "\n",
        "When using `fit`, you can pass a validation_data argument. It’s important to note that this argument is allowed to be a data generator, but it could also be a tuple of Numpy arrays. If you pass a generator as validation_data, then this generator is expected to yield batches of validation data endlessly; thus you should also specify the validation_steps argument, which tells the process how many batches to draw from the validation generator for evaluation."
      ]
    },
    {
      "cell_type": "code",
      "execution_count": null,
      "metadata": {
        "colab": {
          "background_save": true
        },
        "id": "uH6HTeTuJRqc",
        "scrolled": true,
        "outputId": "5ed84d8b-255a-4245-8ccd-7531eca9f4f2"
      },
      "outputs": [
        {
          "name": "stdout",
          "output_type": "stream",
          "text": [
            "Epoch 1/20\n",
            "78/78 [==============================] - 12s 144ms/step - loss: 0.6929 - accuracy: 0.5322 - val_loss: 0.6838 - val_accuracy: 0.6037\n",
            "Epoch 2/20\n",
            "78/78 [==============================] - 13s 165ms/step - loss: 0.6865 - accuracy: 0.5715 - val_loss: 0.6927 - val_accuracy: 0.5076\n",
            "Epoch 3/20\n",
            "78/78 [==============================] - 11s 144ms/step - loss: 0.6705 - accuracy: 0.5860 - val_loss: 0.6714 - val_accuracy: 0.5777\n",
            "Epoch 4/20\n",
            "78/78 [==============================] - 14s 176ms/step - loss: 0.6376 - accuracy: 0.6407 - val_loss: 0.6719 - val_accuracy: 0.6037\n",
            "Epoch 5/20\n",
            "78/78 [==============================] - 12s 151ms/step - loss: 0.5614 - accuracy: 0.7162 - val_loss: 0.6455 - val_accuracy: 0.6174\n",
            "Epoch 6/20\n",
            "78/78 [==============================] - 11s 141ms/step - loss: 0.4671 - accuracy: 0.8023 - val_loss: 0.7055 - val_accuracy: 0.6174\n",
            "Epoch 7/20\n",
            "78/78 [==============================] - 12s 152ms/step - loss: 0.3620 - accuracy: 0.8432 - val_loss: 0.8423 - val_accuracy: 0.6189\n",
            "Epoch 8/20\n",
            "78/78 [==============================] - 13s 165ms/step - loss: 0.2543 - accuracy: 0.9011 - val_loss: 0.8655 - val_accuracy: 0.6098\n",
            "Epoch 9/20\n",
            "78/78 [==============================] - 16s 199ms/step - loss: 0.1476 - accuracy: 0.9477 - val_loss: 1.0164 - val_accuracy: 0.6341\n",
            "Epoch 10/20\n",
            "78/78 [==============================] - 13s 168ms/step - loss: 0.0928 - accuracy: 0.9719 - val_loss: 1.6981 - val_accuracy: 0.6143\n",
            "Epoch 11/20\n",
            "78/78 [==============================] - 11s 141ms/step - loss: 0.0859 - accuracy: 0.9678 - val_loss: 1.5223 - val_accuracy: 0.6280\n",
            "Epoch 12/20\n",
            "78/78 [==============================] - 12s 149ms/step - loss: 0.0317 - accuracy: 0.9920 - val_loss: 1.8533 - val_accuracy: 0.6189\n",
            "Epoch 13/20\n",
            "78/78 [==============================] - 13s 161ms/step - loss: 0.0088 - accuracy: 0.9992 - val_loss: 2.1954 - val_accuracy: 0.6159\n",
            "Epoch 14/20\n",
            "78/78 [==============================] - 12s 152ms/step - loss: 0.0049 - accuracy: 1.0000 - val_loss: 2.2760 - val_accuracy: 0.6204\n",
            "Epoch 15/20\n",
            "78/78 [==============================] - 13s 160ms/step - loss: 0.0013 - accuracy: 1.0000 - val_loss: 2.4480 - val_accuracy: 0.6189\n",
            "Epoch 16/20\n",
            "78/78 [==============================] - 11s 145ms/step - loss: 7.5108e-04 - accuracy: 1.0000 - val_loss: 2.5243 - val_accuracy: 0.6265\n",
            "Epoch 17/20\n",
            "78/78 [==============================] - 11s 138ms/step - loss: 5.1999e-04 - accuracy: 1.0000 - val_loss: 2.5938 - val_accuracy: 0.6280\n",
            "Epoch 18/20\n",
            "78/78 [==============================] - 12s 156ms/step - loss: 3.9353e-04 - accuracy: 1.0000 - val_loss: 2.6551 - val_accuracy: 0.6235\n",
            "Epoch 19/20\n",
            "78/78 [==============================] - 11s 143ms/step - loss: 3.2373e-04 - accuracy: 1.0000 - val_loss: 2.7128 - val_accuracy: 0.6235\n",
            "Epoch 20/20\n",
            "78/78 [==============================] - 14s 179ms/step - loss: 2.6260e-04 - accuracy: 1.0000 - val_loss: 2.7567 - val_accuracy: 0.6265\n"
          ]
        }
      ],
      "source": [
        "# Training the CNN model\n",
        "history = CNN.fit(traingen,\n",
        "        epochs=20,\n",
        "        validation_data=valgen)"
      ]
    },
    {
      "cell_type": "markdown",
      "metadata": {
        "id": "B3bmLMk1JRqc"
      },
      "source": [
        "<b>Evaluate the Model</b>"
      ]
    },
    {
      "cell_type": "code",
      "execution_count": null,
      "metadata": {
        "colab": {
          "background_save": true
        },
        "id": "RMmch-v2JRqc",
        "outputId": "80db86af-9593-4d9f-c3c9-0a8f433917c2"
      },
      "outputs": [
        {
          "name": "stdout",
          "output_type": "stream",
          "text": [
            "41/41 [==============================] - 3s 62ms/step - loss: 2.9001 - accuracy: 0.6242\n"
          ]
        },
        {
          "data": {
            "text/plain": [
              "[2.90008544921875, 0.6242331266403198]"
            ]
          },
          "execution_count": 23,
          "metadata": {},
          "output_type": "execute_result"
        }
      ],
      "source": [
        "CNN.evaluate(testgen)"
      ]
    },
    {
      "cell_type": "markdown",
      "metadata": {
        "id": "o24FgrJjJRqc"
      },
      "source": [
        "Let’s plot the loss and accuracy of the model over the training and validation data during training:"
      ]
    },
    {
      "cell_type": "markdown",
      "metadata": {
        "id": "tPRptu06JRqc"
      },
      "source": [
        "<b>Plot the Training History</b>\n",
        "\n",
        "Plot the training and validation accuracy and loss."
      ]
    },
    {
      "cell_type": "code",
      "execution_count": null,
      "metadata": {
        "colab": {
          "background_save": true
        },
        "id": "rDtPb7jdJRqc",
        "outputId": "57f0a7b4-4a15-406f-f94b-bd0175da6989"
      },
      "outputs": [
        {
          "data": {
            "text/plain": [
              "Text(0.5, 1.0, 'Accuracy Plot')"
            ]
          },
          "execution_count": 24,
          "metadata": {},
          "output_type": "execute_result"
        },
        {
          "data": {
            "image/png": "[encoded data removed]",
            "text/plain": [
              "<Figure size 720x360 with 2 Axes>"
            ]
          },
          "metadata": {},
          "output_type": "display_data"
        }
      ],
      "source": [
        "# Plotting the loss and accuracy plots\n",
        "fig, ax = plt.subplots(1,2,figsize=(10,5))\n",
        "ax[0].plot(history.history['loss'], label=\"Train Loss\")\n",
        "ax[0].plot(history.history['val_loss'], label=\"Val Loss\")\n",
        "ax[1].plot(history.history['accuracy'], label=\"Train Accuracy\")\n",
        "ax[1].plot(history.history['val_accuracy'], label=\"Val Accuracy\")\n",
        "ax[0].legend()\n",
        "ax[1].legend()\n",
        "ax[0].set_title(\"Loss Plot\")\n",
        "ax[1].set_title(\"Accuracy Plot\")"
      ]
    },
    {
      "cell_type": "markdown",
      "metadata": {
        "id": "XViyXTp6JRqc"
      },
      "source": [
        "## Part 3: Now with Data Augmentation\n",
        "\n",
        "We saw in the lecture on regularization that we can slightly alter our training data to similuate a larger dataset. This means our model is less likely to overfit as there is more it would have to memorize 'memorize').\n",
        "\n",
        "Take a look again at the [ImageDataGenerator Documentation](https://keras.io/api/preprocessing/image/) to see what choices we have for changing our data. Are all changes appropriate here?</br>\n",
        "Create a new data generator `datagen_aug` that preprocesses images with your chosen changes. Then we only need to make a new `traingen_aug` using `flow_from_directory`."
      ]
    },
    {
      "cell_type": "markdown",
      "metadata": {
        "id": "-5L8S4m6JRqc"
      },
      "source": [
        "<b>Create Augmenting Generator</b>"
      ]
    },
    {
      "cell_type": "markdown",
      "metadata": {
        "id": "tiU1-BaeJRqc"
      },
      "source": [
        "These are just a few of the options available (for more, see the Keras documentation). \n",
        "Let’s quickly go over this code:\n",
        "\n",
        "- rotation_range is a value in degrees (0–180), a range within which to randomly rotate pictures.\n",
        "- width_shift and height_shift are ranges (as a fraction of total width or height) within which to randomly translate pictures vertically or horizontally.\n",
        "- shear_range is for randomly applying shearing transformations.\n",
        "- zoom_range is for randomly zooming inside pictures.\n",
        "- horizontal_flip is for randomly flipping half the images horizontally—relevant when there are no assumptions of - horizontal asymmetry (for example, real-world pictures).\n",
        "- fill_mode is the strategy used for filling in newly created pixels, which can appear after a rotation or a width/height shift. \n",
        "\n",
        "Let’s look at the augmented images"
      ]
    },
    {
      "cell_type": "code",
      "execution_count": null,
      "metadata": {
        "colab": {
          "background_save": true
        },
        "id": "HDur15VdJRqc",
        "outputId": "fdd21180-af6a-4754-b3d7-b3951f27548a"
      },
      "outputs": [
        {
          "name": "stdout",
          "output_type": "stream",
          "text": [
            "Found 1244 images belonging to 2 classes.\n"
          ]
        }
      ],
      "source": [
        "# Augmenting the data using ImageDataGenerator\n",
        "datagen_aug = ImageDataGenerator(rotation_range=180,\n",
        "                                 width_shift_range=.1, height_shift_range=.1,\n",
        "                                 rescale=1/255,\n",
        "                                 zoom_range=.2,\n",
        "                                 horizontal_flip=True)\n",
        "traingen_aug = datagen_aug.flow_from_directory(\"/data/dogs-vs-cats/train\", target_size=target_size,\n",
        "                                               class_mode='categorical', batch_size=32)"
      ]
    },
    {
      "cell_type": "markdown",
      "metadata": {
        "id": "-aYkibrSJRqb"
      },
      "source": [
        "Let’s look at the output of one of this generator. Note that the generator yields these batches indefinitely: it loops endlessly over the images in the target folder. For this reason, you need to break the iteration loop at some point if using a `for` loop. Better still, you can use the built in `next` function to return a signle element from the generator.\n",
        "\n",
        "Run the below cell several times to see that different images are generated every time!"
      ]
    },
    {
      "cell_type": "code",
      "execution_count": null,
      "metadata": {
        "colab": {
          "background_save": true
        },
        "id": "aLhquJRtqe_b",
        "outputId": "c6d551d7-bca9-44e1-cce9-b257d922945c"
      },
      "outputs": [
        {
          "data": {
            "text/plain": [
              "['dog.4626.jpg',\n",
              " 'dog.1834.jpg',\n",
              " 'dog.9179.jpg',\n",
              " 'dog.5381.jpg',\n",
              " 'dog.11916.jpg',\n",
              " 'dog.8702.jpg',\n",
              " 'dog.7328.jpg',\n",
              " 'dog.6301.jpg',\n",
              " 'dog.11567.jpg',\n",
              " 'dog.858.jpg',\n",
              " 'dog.7342.jpg',\n",
              " 'dog.6872.jpg',\n",
              " 'dog.9140.jpg',\n",
              " 'dog.6575.jpg',\n",
              " 'dog.9318.jpg',\n",
              " 'dog.9472.jpg',\n",
              " 'dog.10912.jpg',\n",
              " 'dog.3061.jpg',\n",
              " 'dog.3905.jpg',\n",
              " 'dog.1846.jpg',\n",
              " 'dog.5396.jpg',\n",
              " 'dog.1831.jpg',\n",
              " 'dog.5389.jpg',\n",
              " 'dog.9994.jpg',\n",
              " 'dog.1421.jpg',\n",
              " 'dog.8924.jpg',\n",
              " 'dog.2626.jpg',\n",
              " 'dog.8437.jpg',\n",
              " 'dog.806.jpg',\n",
              " 'dog.8316.jpg',\n",
              " 'dog.10384.jpg',\n",
              " 'dog.4551.jpg',\n",
              " 'dog.1246.jpg',\n",
              " 'dog.7909.jpg',\n",
              " 'dog.1180.jpg',\n",
              " 'dog.2052.jpg',\n",
              " 'dog.7500.jpg',\n",
              " 'dog.12307.jpg',\n",
              " 'dog.2314.jpg',\n",
              " 'dog.2707.jpg',\n",
              " 'dog.6296.jpg',\n",
              " 'dog.4739.jpg',\n",
              " 'dog.2374.jpg',\n",
              " 'dog.8475.jpg',\n",
              " 'dog.8417.jpg',\n",
              " 'dog.12206.jpg',\n",
              " 'dog.464.jpg',\n",
              " 'dog.1418.jpg',\n",
              " 'dog.2903.jpg',\n",
              " 'dog.3039.jpg',\n",
              " 'dog.4510.jpg',\n",
              " 'dog.5307.jpg',\n",
              " 'dog.5079.jpg',\n",
              " 'dog.11837.jpg',\n",
              " 'dog.972.jpg',\n",
              " 'dog.7559.jpg',\n",
              " 'dog.9044.jpg',\n",
              " 'dog.8779.jpg',\n",
              " 'dog.340.jpg',\n",
              " 'dog.4273.jpg',\n",
              " 'dog.3936.jpg',\n",
              " 'dog.1122.jpg',\n",
              " 'dog.8336.jpg',\n",
              " 'dog.2078.jpg',\n",
              " 'dog.11614.jpg',\n",
              " 'dog.10935.jpg',\n",
              " 'dog.3001.jpg',\n",
              " 'dog.3346.jpg',\n",
              " 'dog.4630.jpg',\n",
              " 'dog.9430.jpg',\n",
              " 'dog.4736.jpg',\n",
              " 'dog.153.jpg',\n",
              " 'dog.378.jpg',\n",
              " 'dog.6319.jpg',\n",
              " 'dog.2045.jpg',\n",
              " 'dog.11424.jpg',\n",
              " 'dog.9122.jpg',\n",
              " 'dog.397.jpg',\n",
              " 'dog.8806.jpg',\n",
              " 'dog.2191.jpg',\n",
              " 'dog.5778.jpg',\n",
              " 'dog.4646.jpg',\n",
              " 'dog.9863.jpg',\n",
              " 'dog.11718.jpg',\n",
              " 'dog.6446.jpg',\n",
              " 'dog.6706.jpg',\n",
              " 'dog.5232.jpg',\n",
              " 'dog.11662.jpg',\n",
              " 'dog.1960.jpg',\n",
              " 'dog.5865.jpg',\n",
              " 'dog.8526.jpg',\n",
              " 'dog.2710.jpg',\n",
              " 'dog.10458.jpg',\n",
              " 'dog.545.jpg',\n",
              " 'dog.10253.jpg',\n",
              " 'dog.1992.jpg',\n",
              " 'dog.5579.jpg',\n",
              " 'dog.572.jpg',\n",
              " 'dog.842.jpg',\n",
              " 'dog.542.jpg',\n",
              " 'dog.10432.jpg',\n",
              " 'dog.9536.jpg',\n",
              " 'dog.5255.jpg',\n",
              " 'dog.12479.jpg',\n",
              " 'dog.12482.jpg',\n",
              " 'dog.7069.jpg',\n",
              " 'dog.91.jpg',\n",
              " 'dog.134.jpg',\n",
              " 'dog.8129.jpg',\n",
              " 'dog.9872.jpg',\n",
              " 'dog.5739.jpg',\n",
              " 'dog.10436.jpg',\n",
              " 'dog.6657.jpg',\n",
              " 'dog.7393.jpg',\n",
              " 'dog.10005.jpg',\n",
              " 'dog.6532.jpg',\n",
              " 'dog.343.jpg',\n",
              " 'dog.5310.jpg',\n",
              " 'dog.2758.jpg',\n",
              " 'dog.3379.jpg',\n",
              " 'dog.8536.jpg',\n",
              " 'dog.3218.jpg',\n",
              " 'dog.6866.jpg',\n",
              " 'dog.8801.jpg',\n",
              " 'dog.4459.jpg',\n",
              " 'dog.4545.jpg',\n",
              " 'dog.10282.jpg',\n",
              " 'dog.940.jpg',\n",
              " 'dog.33.jpg',\n",
              " 'dog.7616.jpg',\n",
              " 'dog.3609.jpg',\n",
              " 'dog.4541.jpg',\n",
              " 'dog.6629.jpg',\n",
              " 'dog.6188.jpg',\n",
              " 'dog.8332.jpg',\n",
              " 'dog.10084.jpg',\n",
              " 'dog.6401.jpg',\n",
              " 'dog.5686.jpg',\n",
              " 'dog.8860.jpg',\n",
              " 'dog.4639.jpg',\n",
              " 'dog.5185.jpg',\n",
              " 'dog.5050.jpg',\n",
              " 'dog.6415.jpg',\n",
              " 'dog.3924.jpg',\n",
              " 'dog.1121.jpg',\n",
              " 'dog.12319.jpg',\n",
              " 'dog.1636.jpg',\n",
              " 'dog.64.jpg',\n",
              " 'dog.3616.jpg',\n",
              " 'dog.6424.jpg',\n",
              " 'dog.6069.jpg',\n",
              " 'dog.5116.jpg',\n",
              " 'dog.6773.jpg',\n",
              " 'dog.10962.jpg',\n",
              " 'dog.2159.jpg',\n",
              " 'dog.11815.jpg',\n",
              " 'dog.10118.jpg',\n",
              " 'dog.11700.jpg',\n",
              " 'dog.5312.jpg',\n",
              " 'dog.8866.jpg',\n",
              " 'dog.8840.jpg',\n",
              " 'dog.7153.jpg',\n",
              " 'dog.7643.jpg',\n",
              " 'dog.9082.jpg',\n",
              " 'dog.2938.jpg',\n",
              " 'dog.8767.jpg',\n",
              " 'dog.4126.jpg',\n",
              " 'dog.2862.jpg',\n",
              " 'dog.10364.jpg',\n",
              " 'dog.4184.jpg',\n",
              " 'dog.3721.jpg',\n",
              " 'dog.8738.jpg',\n",
              " 'dog.5520.jpg',\n",
              " 'dog.365.jpg',\n",
              " 'dog.3508.jpg',\n",
              " 'dog.3558.jpg',\n",
              " 'dog.4361.jpg',\n",
              " 'dog.10449.jpg',\n",
              " 'dog.5993.jpg',\n",
              " 'dog.9878.jpg',\n",
              " 'dog.7504.jpg',\n",
              " 'dog.5106.jpg',\n",
              " 'dog.1835.jpg',\n",
              " 'dog.6548.jpg',\n",
              " 'dog.3985.jpg',\n",
              " 'dog.32.jpg',\n",
              " 'dog.6905.jpg',\n",
              " 'dog.8954.jpg',\n",
              " 'dog.5308.jpg',\n",
              " 'dog.10629.jpg',\n",
              " 'dog.8903.jpg',\n",
              " 'dog.10033.jpg',\n",
              " 'dog.12075.jpg',\n",
              " 'dog.5122.jpg',\n",
              " 'dog.6723.jpg',\n",
              " 'dog.6535.jpg',\n",
              " 'dog.10010.jpg',\n",
              " 'dog.10963.jpg',\n",
              " 'dog.195.jpg',\n",
              " 'dog.2081.jpg',\n",
              " 'dog.4079.jpg',\n",
              " 'dog.5403.jpg',\n",
              " 'dog.12285.jpg',\n",
              " 'dog.5433.jpg',\n",
              " 'dog.1765.jpg',\n",
              " 'dog.2049.jpg',\n",
              " 'dog.4702.jpg',\n",
              " 'dog.386.jpg',\n",
              " 'dog.8544.jpg',\n",
              " 'dog.3461.jpg',\n",
              " 'dog.342.jpg',\n",
              " 'dog.7801.jpg',\n",
              " 'dog.11113.jpg',\n",
              " 'dog.223.jpg',\n",
              " 'dog.1875.jpg',\n",
              " 'dog.4157.jpg',\n",
              " 'dog.7566.jpg',\n",
              " 'dog.5037.jpg',\n",
              " 'dog.2770.jpg',\n",
              " 'dog.5745.jpg',\n",
              " 'dog.4418.jpg',\n",
              " 'dog.3043.jpg',\n",
              " 'dog.8114.jpg',\n",
              " 'dog.8026.jpg',\n",
              " 'dog.488.jpg',\n",
              " 'dog.8011.jpg',\n",
              " 'dog.4879.jpg',\n",
              " 'dog.6765.jpg',\n",
              " 'dog.7305.jpg',\n",
              " 'dog.1013.jpg',\n",
              " 'dog.2306.jpg',\n",
              " 'dog.2381.jpg',\n",
              " 'dog.6468.jpg',\n",
              " 'dog.5941.jpg',\n",
              " 'dog.1943.jpg',\n",
              " 'dog.6158.jpg',\n",
              " 'dog.4508.jpg',\n",
              " 'dog.9716.jpg',\n",
              " 'dog.584.jpg',\n",
              " 'dog.9915.jpg',\n",
              " 'dog.251.jpg',\n",
              " 'dog.11468.jpg',\n",
              " 'dog.9613.jpg',\n",
              " 'dog.6168.jpg',\n",
              " 'dog.5182.jpg',\n",
              " 'dog.549.jpg',\n",
              " 'dog.4799.jpg',\n",
              " 'dog.2147.jpg',\n",
              " 'dog.9317.jpg',\n",
              " 'dog.12155.jpg',\n",
              " 'dog.12183.jpg',\n",
              " 'dog.4289.jpg',\n",
              " 'dog.8817.jpg',\n",
              " 'dog.426.jpg',\n",
              " 'dog.11265.jpg',\n",
              " 'dog.399.jpg',\n",
              " 'dog.4001.jpg',\n",
              " 'dog.1051.jpg',\n",
              " 'dog.7864.jpg',\n",
              " 'dog.5816.jpg',\n",
              " 'dog.8229.jpg',\n",
              " 'dog.8310.jpg',\n",
              " 'dog.12061.jpg',\n",
              " 'dog.5504.jpg',\n",
              " 'dog.922.jpg',\n",
              " 'dog.11686.jpg',\n",
              " 'dog.1345.jpg',\n",
              " 'dog.5691.jpg',\n",
              " 'dog.11488.jpg',\n",
              " 'dog.1611.jpg',\n",
              " 'dog.5892.jpg',\n",
              " 'dog.8698.jpg',\n",
              " 'dog.2944.jpg',\n",
              " 'dog.9267.jpg',\n",
              " 'dog.6041.jpg',\n",
              " 'dog.8404.jpg',\n",
              " 'dog.6774.jpg',\n",
              " 'dog.5415.jpg',\n",
              " 'dog.8388.jpg',\n",
              " 'dog.4571.jpg',\n",
              " 'dog.9728.jpg',\n",
              " 'dog.2464.jpg',\n",
              " 'dog.11238.jpg',\n",
              " 'dog.9438.jpg',\n",
              " 'dog.7216.jpg',\n",
              " 'dog.8461.jpg',\n",
              " 'dog.6495.jpg',\n",
              " 'dog.6763.jpg',\n",
              " 'dog.2427.jpg',\n",
              " 'dog.3921.jpg',\n",
              " 'dog.3631.jpg',\n",
              " 'dog.8936.jpg',\n",
              " 'dog.826.jpg',\n",
              " 'dog.8518.jpg',\n",
              " 'dog.4009.jpg',\n",
              " 'dog.9744.jpg',\n",
              " 'dog.9340.jpg',\n",
              " 'dog.10325.jpg',\n",
              " 'dog.8267.jpg',\n",
              " 'dog.1100.jpg',\n",
              " 'dog.1884.jpg',\n",
              " 'dog.7843.jpg',\n",
              " 'dog.4745.jpg',\n",
              " 'dog.8752.jpg',\n",
              " 'dog.443.jpg',\n",
              " 'dog.11458.jpg',\n",
              " 'dog.2485.jpg',\n",
              " 'dog.2887.jpg',\n",
              " 'dog.8010.jpg',\n",
              " 'dog.11427.jpg',\n",
              " 'dog.11847.jpg',\n",
              " 'dog.5810.jpg',\n",
              " 'dog.11746.jpg',\n",
              " 'dog.7163.jpg',\n",
              " 'dog.10228.jpg',\n",
              " 'dog.10817.jpg',\n",
              " 'dog.8361.jpg',\n",
              " 'dog.9378.jpg',\n",
              " 'dog.832.jpg',\n",
              " 'dog.6648.jpg',\n",
              " 'dog.1792.jpg',\n",
              " 'dog.519.jpg',\n",
              " 'dog.1416.jpg',\n",
              " 'dog.2260.jpg',\n",
              " 'dog.4633.jpg',\n",
              " 'dog.6179.jpg',\n",
              " 'dog.615.jpg',\n",
              " 'dog.6473.jpg',\n",
              " 'dog.8631.jpg',\n",
              " 'dog.9859.jpg',\n",
              " 'dog.9601.jpg',\n",
              " 'dog.5824.jpg',\n",
              " 'dog.5392.jpg',\n",
              " 'dog.11619.jpg',\n",
              " 'dog.9643.jpg',\n",
              " 'dog.1974.jpg',\n",
              " 'dog.12064.jpg',\n",
              " 'dog.5405.jpg',\n",
              " 'dog.5524.jpg',\n",
              " 'dog.11708.jpg',\n",
              " 'dog.5979.jpg',\n",
              " 'dog.3163.jpg',\n",
              " 'dog.8128.jpg',\n",
              " 'dog.3472.jpg',\n",
              " 'dog.1089.jpg',\n",
              " 'dog.7671.jpg',\n",
              " 'dog.7769.jpg',\n",
              " 'dog.6867.jpg',\n",
              " 'dog.11118.jpg',\n",
              " 'dog.10406.jpg',\n",
              " 'dog.12010.jpg',\n",
              " 'dog.2250.jpg',\n",
              " 'dog.3620.jpg',\n",
              " 'dog.5067.jpg',\n",
              " 'dog.11949.jpg',\n",
              " 'dog.2979.jpg',\n",
              " 'dog.4961.jpg',\n",
              " 'dog.4583.jpg',\n",
              " 'dog.8127.jpg',\n",
              " 'dog.9250.jpg',\n",
              " 'dog.11026.jpg',\n",
              " 'dog.938.jpg',\n",
              " 'dog.9329.jpg',\n",
              " 'dog.4598.jpg',\n",
              " 'dog.7074.jpg',\n",
              " 'dog.3095.jpg',\n",
              " 'dog.2385.jpg',\n",
              " 'dog.8195.jpg',\n",
              " 'dog.8095.jpg',\n",
              " 'dog.8669.jpg',\n",
              " 'dog.11042.jpg',\n",
              " 'dog.6489.jpg',\n",
              " 'dog.10667.jpg',\n",
              " 'dog.3728.jpg',\n",
              " 'dog.1929.jpg',\n",
              " 'dog.2696.jpg',\n",
              " 'dog.10816.jpg',\n",
              " 'dog.5262.jpg',\n",
              " 'dog.11159.jpg',\n",
              " 'dog.10612.jpg',\n",
              " 'dog.8771.jpg',\n",
              " 'dog.6526.jpg',\n",
              " 'dog.9936.jpg',\n",
              " 'dog.1681.jpg',\n",
              " 'dog.7964.jpg',\n",
              " 'dog.1652.jpg',\n",
              " 'dog.6010.jpg',\n",
              " 'dog.1452.jpg',\n",
              " 'dog.823.jpg',\n",
              " 'dog.4744.jpg',\n",
              " 'dog.12378.jpg',\n",
              " 'dog.8775.jpg',\n",
              " 'dog.11609.jpg',\n",
              " 'dog.11003.jpg',\n",
              " 'dog.6450.jpg',\n",
              " 'dog.9111.jpg',\n",
              " 'dog.12022.jpg',\n",
              " 'dog.7869.jpg',\n",
              " 'dog.1451.jpg',\n",
              " 'dog.8608.jpg',\n",
              " 'dog.8155.jpg',\n",
              " 'dog.4118.jpg',\n",
              " 'dog.12448.jpg',\n",
              " 'dog.7594.jpg',\n",
              " 'dog.10167.jpg',\n",
              " 'dog.7681.jpg',\n",
              " 'dog.8394.jpg',\n",
              " 'dog.3788.jpg',\n",
              " 'dog.733.jpg',\n",
              " 'dog.11885.jpg',\n",
              " 'dog.5489.jpg',\n",
              " 'dog.2688.jpg',\n",
              " 'dog.10317.jpg',\n",
              " 'dog.4891.jpg',\n",
              " 'dog.5990.jpg',\n",
              " 'dog.11822.jpg',\n",
              " 'dog.3825.jpg',\n",
              " 'dog.6169.jpg',\n",
              " 'dog.6834.jpg',\n",
              " 'dog.369.jpg',\n",
              " 'dog.2006.jpg',\n",
              " 'dog.2689.jpg',\n",
              " 'dog.11414.jpg',\n",
              " 'dog.5277.jpg',\n",
              " 'dog.2740.jpg',\n",
              " 'dog.9933.jpg',\n",
              " 'dog.8530.jpg',\n",
              " 'dog.6338.jpg',\n",
              " 'dog.10491.jpg',\n",
              " 'dog.3216.jpg',\n",
              " 'dog.7037.jpg',\n",
              " 'dog.12039.jpg',\n",
              " 'dog.1504.jpg',\n",
              " 'dog.2587.jpg',\n",
              " 'dog.3701.jpg',\n",
              " 'dog.9713.jpg',\n",
              " 'dog.11421.jpg',\n",
              " 'dog.9084.jpg',\n",
              " 'dog.12172.jpg',\n",
              " 'dog.1593.jpg',\n",
              " 'dog.730.jpg',\n",
              " 'dog.5303.jpg',\n",
              " 'dog.1270.jpg',\n",
              " 'dog.12384.jpg',\n",
              " 'dog.10601.jpg',\n",
              " 'dog.3627.jpg',\n",
              " 'dog.4102.jpg',\n",
              " 'dog.4287.jpg',\n",
              " 'dog.3299.jpg',\n",
              " 'dog.8420.jpg',\n",
              " 'dog.4678.jpg',\n",
              " 'dog.3859.jpg',\n",
              " 'dog.7510.jpg',\n",
              " 'dog.681.jpg',\n",
              " 'dog.8143.jpg',\n",
              " 'dog.5221.jpg',\n",
              " 'dog.9577.jpg',\n",
              " 'dog.362.jpg',\n",
              " 'dog.3205.jpg',\n",
              " 'dog.1137.jpg',\n",
              " 'dog.10337.jpg',\n",
              " 'dog.6107.jpg',\n",
              " 'dog.1700.jpg',\n",
              " 'dog.7833.jpg',\n",
              " 'dog.10473.jpg',\n",
              " 'dog.7611.jpg',\n",
              " 'dog.11079.jpg',\n",
              " 'dog.9763.jpg',\n",
              " 'dog.6336.jpg',\n",
              " 'dog.12167.jpg',\n",
              " 'dog.5898.jpg',\n",
              " 'dog.3441.jpg',\n",
              " 'dog.1719.jpg',\n",
              " 'dog.487.jpg',\n",
              " 'dog.6940.jpg',\n",
              " 'dog.2197.jpg',\n",
              " 'dog.742.jpg',\n",
              " 'dog.8603.jpg',\n",
              " 'dog.2701.jpg',\n",
              " 'dog.10029.jpg',\n",
              " 'dog.2600.jpg',\n",
              " 'dog.1275.jpg',\n",
              " 'dog.5070.jpg',\n",
              " 'dog.5614.jpg',\n",
              " 'dog.4816.jpg',\n",
              " 'dog.11227.jpg',\n",
              " 'dog.11180.jpg',\n",
              " 'dog.3602.jpg',\n",
              " 'dog.608.jpg',\n",
              " 'dog.4937.jpg',\n",
              " 'dog.3165.jpg',\n",
              " 'dog.932.jpg',\n",
              " 'dog.4607.jpg',\n",
              " 'dog.4334.jpg',\n",
              " 'dog.3858.jpg',\n",
              " 'dog.1813.jpg',\n",
              " 'dog.10620.jpg',\n",
              " 'dog.11521.jpg',\n",
              " 'dog.5683.jpg',\n",
              " 'dog.784.jpg',\n",
              " 'dog.2404.jpg',\n",
              " 'dog.72.jpg',\n",
              " 'dog.3378.jpg',\n",
              " 'dog.6512.jpg',\n",
              " 'dog.9928.jpg',\n",
              " 'dog.1081.jpg',\n",
              " 'dog.7629.jpg',\n",
              " 'dog.10445.jpg',\n",
              " 'dog.4476.jpg',\n",
              " 'dog.7644.jpg',\n",
              " 'dog.1575.jpg',\n",
              " 'dog.6130.jpg',\n",
              " 'dog.6528.jpg',\n",
              " 'dog.308.jpg',\n",
              " 'dog.9206.jpg',\n",
              " 'dog.352.jpg',\n",
              " 'dog.7040.jpg',\n",
              " 'dog.696.jpg',\n",
              " 'dog.2925.jpg',\n",
              " 'dog.9749.jpg',\n",
              " 'dog.1584.jpg',\n",
              " 'dog.909.jpg',\n",
              " 'dog.1530.jpg',\n",
              " 'dog.5443.jpg',\n",
              " 'dog.4509.jpg',\n",
              " 'dog.8804.jpg',\n",
              " 'dog.11173.jpg',\n",
              " 'dog.5675.jpg',\n",
              " 'dog.5548.jpg',\n",
              " 'dog.3941.jpg',\n",
              " 'dog.4742.jpg',\n",
              " 'dog.3815.jpg',\n",
              " 'dog.6715.jpg',\n",
              " 'dog.11639.jpg',\n",
              " 'dog.2158.jpg',\n",
              " 'dog.7537.jpg',\n",
              " 'dog.6608.jpg',\n",
              " 'dog.6056.jpg',\n",
              " 'dog.433.jpg',\n",
              " 'dog.2850.jpg',\n",
              " 'dog.2519.jpg',\n",
              " 'dog.489.jpg',\n",
              " 'dog.11117.jpg',\n",
              " 'dog.8410.jpg',\n",
              " 'dog.3577.jpg',\n",
              " 'dog.1806.jpg',\n",
              " 'dog.4357.jpg',\n",
              " 'dog.2788.jpg',\n",
              " 'dog.9038.jpg',\n",
              " 'dog.5173.jpg',\n",
              " 'dog.9881.jpg',\n",
              " 'dog.4764.jpg',\n",
              " 'dog.336.jpg',\n",
              " 'dog.8524.jpg',\n",
              " 'dog.4965.jpg',\n",
              " 'dog.727.jpg',\n",
              " 'dog.6561.jpg',\n",
              " 'dog.1450.jpg',\n",
              " 'dog.8324.jpg',\n",
              " 'dog.7104.jpg',\n",
              " 'dog.8663.jpg',\n",
              " 'dog.4407.jpg',\n",
              " 'dog.4973.jpg',\n",
              " 'dog.9856.jpg',\n",
              " 'dog.4110.jpg',\n",
              " 'dog.12070.jpg',\n",
              " 'dog.2288.jpg',\n",
              " 'dog.2538.jpg',\n",
              " 'dog.266.jpg',\n",
              " 'dog.7494.jpg',\n",
              " 'dog.5266.jpg',\n",
              " 'dog.58.jpg',\n",
              " 'dog.588.jpg',\n",
              " 'dog.476.jpg',\n",
              " 'dog.3688.jpg',\n",
              " 'dog.8146.jpg',\n",
              " 'dog.4674.jpg',\n",
              " 'dog.777.jpg',\n",
              " 'dog.6864.jpg',\n",
              " 'dog.5251.jpg',\n",
              " 'dog.4482.jpg',\n",
              " 'dog.7930.jpg',\n",
              " 'dog.9182.jpg',\n",
              " 'dog.2406.jpg',\n",
              " 'dog.8563.jpg',\n",
              " 'dog.9847.jpg',\n",
              " 'dog.10819.jpg',\n",
              " 'dog.797.jpg',\n",
              " 'dog.276.jpg',\n",
              " 'dog.6796.jpg',\n",
              " 'dog.7160.jpg',\n",
              " 'dog.587.jpg',\n",
              " 'dog.8262.jpg',\n",
              " 'dog.3846.jpg',\n",
              " 'dog.9772.jpg',\n",
              " 'dog.2630.jpg',\n",
              " 'dog.2892.jpg',\n",
              " 'dog.7781.jpg',\n",
              " 'dog.10440.jpg',\n",
              " 'dog.5393.jpg',\n",
              " 'dog.10639.jpg',\n",
              " 'dog.10942.jpg',\n",
              " 'dog.6285.jpg',\n",
              " 'dog.11437.jpg',\n",
              " 'dog.11692.jpg',\n",
              " 'dog.1887.jpg',\n",
              " 'dog.9799.jpg',\n",
              " 'dog.3.jpg',\n",
              " 'dog.527.jpg',\n",
              " 'dog.8848.jpg']"
            ]
          },
          "execution_count": 26,
          "metadata": {},
          "output_type": "execute_result"
        }
      ],
      "source": [
        "os.listdir('../data/dogs-vs-cats/train/dogs/')"
      ]
    },
    {
      "cell_type": "code",
      "execution_count": null,
      "metadata": {
        "colab": {
          "background_save": true
        },
        "id": "37UDBAgrJRqb",
        "outputId": "0075e64a-11ee-451c-8477-ef084792f422"
      },
      "outputs": [
        {
          "ename": "FileNotFoundError",
          "evalue": "ignored",
          "output_type": "error",
          "traceback": [
            "\u001b[0;31m---------------------------------------------------------------------------\u001b[0m",
            "\u001b[0;31mFileNotFoundError\u001b[0m                         Traceback (most recent call last)",
            "\u001b[0;32m<ipython-input-27-872137359d59>\u001b[0m in \u001b[0;36m<module>\u001b[0;34m\u001b[0m\n\u001b[1;32m      1\u001b[0m \u001b[0;31m# Looking at the data\u001b[0m\u001b[0;34m\u001b[0m\u001b[0;34m\u001b[0m\u001b[0;34m\u001b[0m\u001b[0m\n\u001b[0;32m----> 2\u001b[0;31m \u001b[0mimg\u001b[0m \u001b[0;34m=\u001b[0m \u001b[0mimage\u001b[0m\u001b[0;34m.\u001b[0m\u001b[0mload_img\u001b[0m\u001b[0;34m(\u001b[0m\u001b[0;34m'/data/dogs-vs-cats/train/dogs/dog.161.jpg'\u001b[0m\u001b[0;34m)\u001b[0m\u001b[0;34m\u001b[0m\u001b[0;34m\u001b[0m\u001b[0m\n\u001b[0m\u001b[1;32m      3\u001b[0m \u001b[0mimg\u001b[0m \u001b[0;34m=\u001b[0m \u001b[0mimage\u001b[0m\u001b[0;34m.\u001b[0m\u001b[0mimg_to_array\u001b[0m\u001b[0;34m(\u001b[0m\u001b[0mimg\u001b[0m\u001b[0;34m)\u001b[0m\u001b[0;34m\u001b[0m\u001b[0;34m\u001b[0m\u001b[0m\n\u001b[1;32m      4\u001b[0m \u001b[0mimg\u001b[0m \u001b[0;34m=\u001b[0m \u001b[0mnp\u001b[0m\u001b[0;34m.\u001b[0m\u001b[0marray\u001b[0m\u001b[0;34m(\u001b[0m\u001b[0;34m[\u001b[0m\u001b[0mimg\u001b[0m\u001b[0;34m]\u001b[0m\u001b[0;34m)\u001b[0m\u001b[0;34m\u001b[0m\u001b[0;34m\u001b[0m\u001b[0m\n\u001b[1;32m      5\u001b[0m \u001b[0maug_iter\u001b[0m \u001b[0;34m=\u001b[0m \u001b[0mdatagen_aug\u001b[0m\u001b[0;34m.\u001b[0m\u001b[0mflow\u001b[0m\u001b[0;34m(\u001b[0m\u001b[0mimg\u001b[0m\u001b[0;34m,\u001b[0m \u001b[0mbatch_size\u001b[0m\u001b[0;34m=\u001b[0m\u001b[0;36m1\u001b[0m\u001b[0;34m)\u001b[0m\u001b[0;34m\u001b[0m\u001b[0;34m\u001b[0m\u001b[0m\n",
            "\u001b[0;32m/usr/local/lib/python3.8/dist-packages/keras/utils/image_utils.py\u001b[0m in \u001b[0;36mload_img\u001b[0;34m(path, grayscale, color_mode, target_size, interpolation, keep_aspect_ratio)\u001b[0m\n\u001b[1;32m    391\u001b[0m     \u001b[0;32mif\u001b[0m \u001b[0misinstance\u001b[0m\u001b[0;34m(\u001b[0m\u001b[0mpath\u001b[0m\u001b[0;34m,\u001b[0m \u001b[0mpathlib\u001b[0m\u001b[0;34m.\u001b[0m\u001b[0mPath\u001b[0m\u001b[0;34m)\u001b[0m\u001b[0;34m:\u001b[0m\u001b[0;34m\u001b[0m\u001b[0;34m\u001b[0m\u001b[0m\n\u001b[1;32m    392\u001b[0m       \u001b[0mpath\u001b[0m \u001b[0;34m=\u001b[0m \u001b[0mstr\u001b[0m\u001b[0;34m(\u001b[0m\u001b[0mpath\u001b[0m\u001b[0;34m.\u001b[0m\u001b[0mresolve\u001b[0m\u001b[0;34m(\u001b[0m\u001b[0;34m)\u001b[0m\u001b[0;34m)\u001b[0m\u001b[0;34m\u001b[0m\u001b[0;34m\u001b[0m\u001b[0m\n\u001b[0;32m--> 393\u001b[0;31m     \u001b[0;32mwith\u001b[0m \u001b[0mopen\u001b[0m\u001b[0;34m(\u001b[0m\u001b[0mpath\u001b[0m\u001b[0;34m,\u001b[0m \u001b[0;34m'rb'\u001b[0m\u001b[0;34m)\u001b[0m \u001b[0;32mas\u001b[0m \u001b[0mf\u001b[0m\u001b[0;34m:\u001b[0m\u001b[0;34m\u001b[0m\u001b[0;34m\u001b[0m\u001b[0m\n\u001b[0m\u001b[1;32m    394\u001b[0m       \u001b[0mimg\u001b[0m \u001b[0;34m=\u001b[0m \u001b[0mpil_image\u001b[0m\u001b[0;34m.\u001b[0m\u001b[0mopen\u001b[0m\u001b[0;34m(\u001b[0m\u001b[0mio\u001b[0m\u001b[0;34m.\u001b[0m\u001b[0mBytesIO\u001b[0m\u001b[0;34m(\u001b[0m\u001b[0mf\u001b[0m\u001b[0;34m.\u001b[0m\u001b[0mread\u001b[0m\u001b[0;34m(\u001b[0m\u001b[0;34m)\u001b[0m\u001b[0;34m)\u001b[0m\u001b[0;34m)\u001b[0m\u001b[0;34m\u001b[0m\u001b[0;34m\u001b[0m\u001b[0m\n\u001b[1;32m    395\u001b[0m   \u001b[0;32melse\u001b[0m\u001b[0;34m:\u001b[0m\u001b[0;34m\u001b[0m\u001b[0;34m\u001b[0m\u001b[0m\n",
            "\u001b[0;31mFileNotFoundError\u001b[0m: [Errno 2] No such file or directory: '/data/dogs-vs-cats/train/dogs/dog.161.jpg'"
          ]
        }
      ],
      "source": [
        "# Looking at the data\n",
        "img = image.load_img('/data/dogs-vs-cats/train/dogs/dog.161.jpg')\n",
        "img = image.img_to_array(img)\n",
        "img = np.array([img])\n",
        "aug_iter = datagen_aug.flow(img, batch_size=1)\n",
        "fig, ax = plt.subplots(1,3,figsize=(15,15))\n",
        "for i in range(3):\n",
        "  img_aug= next(aug_iter)[0]\n",
        "  ax[i].imshow(img_aug)"
      ]
    },
    {
      "cell_type": "markdown",
      "metadata": {
        "id": "n2iFAKXMJRqc"
      },
      "source": [
        "If you train a new network using this data-augmentation configuration, the network will never see the same input twice. But the inputs it sees are still heavily intercorrelated, because they come from a small number of original images—you can’t produce new information, you can only remix existing information. As such, this may not be enough to completely get rid of overfitting. "
      ]
    },
    {
      "cell_type": "markdown",
      "metadata": {
        "id": "eXdYSYr-JRqc"
      },
      "source": [
        "<b>2nd CNN Model</b>\n",
        "\n",
        "To see the affect of data augmentation you should use the same architecture as your first model and the same validation data 'valgen' and test data 'testgen'."
      ]
    },
    {
      "cell_type": "code",
      "execution_count": null,
      "metadata": {
        "colab": {
          "background_save": true
        },
        "id": "qVTeEmQiJRqc"
      },
      "outputs": [],
      "source": [
        "#Creating a CNN\n",
        "CNN_aug = Sequential()\n",
        "\n",
        "CNN_aug.add(Input(shape=(75, 75, 3)))\n",
        "\n",
        "#Specify a list of the number of filters for each convolutional layer\n",
        "\n",
        "for n_filters in [16,32, 64]:\n",
        "    CNN_aug.add(Conv2D(n_filters,strides=(2, 2), kernel_size=3, activation='relu'))\n",
        "\n",
        "# Fill in the layer needed between our 2d convolutional layers and the dense layer\n",
        "CNN_aug.add(Flatten())\n",
        "\n",
        "#Specify the number of nodes in the dense layer before the output\n",
        "CNN_aug.add(Dense(128, activation='relu'))\n",
        "\n",
        "#Specify the output layer\n",
        "CNN_aug.add(Dense(2, activation='softmax'))\n",
        " \n",
        "#Compiling the model\n",
        "CNN_aug.compile(loss='categorical_crossentropy', metrics=['accuracy'], optimizer='adam')"
      ]
    },
    {
      "cell_type": "markdown",
      "metadata": {
        "id": "9l7p92q5zO6m"
      },
      "source": [
        "**Plot Model Diagram**\n"
      ]
    },
    {
      "cell_type": "code",
      "execution_count": null,
      "metadata": {
        "colab": {
          "background_save": true
        },
        "id": "UxE274vczTiX"
      },
      "outputs": [],
      "source": [
        "plot_model(CNN_aug, show_shapes=True, show_layer_names=False, dpi=60)"
      ]
    },
    {
      "cell_type": "markdown",
      "metadata": {
        "id": "wcdyGfpqAbQU"
      },
      "source": [
        "<b> Fit Model </b>"
      ]
    },
    {
      "cell_type": "code",
      "execution_count": null,
      "metadata": {
        "colab": {
          "background_save": true
        },
        "id": "RNBYNMFYJRqc",
        "scrolled": true
      },
      "outputs": [],
      "source": [
        "# Training the model\n",
        "history_aug = CNN_aug.fit(traingen_aug,\n",
        "        epochs=20,\n",
        "        validation_data=valgen)"
      ]
    },
    {
      "cell_type": "markdown",
      "metadata": {
        "id": "JEfJXF4SAgI8"
      },
      "source": [
        "<b>Plot the Training History</b>\n",
        "\n",
        "Plot the training and validation accuracy and loss."
      ]
    },
    {
      "cell_type": "code",
      "execution_count": null,
      "metadata": {
        "colab": {
          "background_save": true
        },
        "id": "_UwShd9VJRqc"
      },
      "outputs": [],
      "source": [
        "# Plotting the loss and accuracy plots\n",
        "fig, ax = plt.subplots(1,2,figsize=(10,5))\n",
        "ax[0].plot(history_aug.history['loss'], label=\"Train Loss\")\n",
        "ax[0].plot(history_aug.history['val_loss'], label=\"Val Loss\")\n",
        "ax[1].plot(history_aug.history['accuracy'], label=\"Train Accuracy\")\n",
        "ax[1].plot(history_aug.history['val_accuracy'], label=\"Val Accuracy\")\n",
        "ax[0].legend()\n",
        "ax[1].legend()\n",
        "ax[0].set_title(\"Loss Plot\")\n",
        "ax[1].set_title(\"Accuracy Plot\")"
      ]
    },
    {
      "cell_type": "markdown",
      "metadata": {
        "id": "d5spNJ6KAlpb"
      },
      "source": [
        "<b> Evaluate your model </b>"
      ]
    },
    {
      "cell_type": "code",
      "execution_count": null,
      "metadata": {
        "colab": {
          "background_save": true
        },
        "id": "KOPQQvriJRqc"
      },
      "outputs": [],
      "source": [
        "CNN_aug.evaluate(testgen, steps=650/batch_size)"
      ]
    },
    {
      "cell_type": "code",
      "execution_count": null,
      "metadata": {
        "colab": {
          "background_save": true
        },
        "id": "Y1Jm5JcKeoWB"
      },
      "outputs": [],
      "source": [
        "CNN_aug.save_weights('model_weights.h5')"
      ]
    },
    {
      "cell_type": "code",
      "execution_count": null,
      "metadata": {
        "colab": {
          "background_save": true
        },
        "id": "DIRrVaisfFQI"
      },
      "outputs": [],
      "source": [
        "CNN_aug_new = Sequential()\n",
        "\n",
        "CNN_aug_new.add(Input(shape=(75, 75, 3)))\n",
        "\n",
        "#Specify a list of the number of filters for each convolutional layer\n",
        "\n",
        "for n_filters in [16,32, 64]:\n",
        "    CNN_aug_new.add(Conv2D(n_filters,strides=(2, 2), kernel_size=3, activation='relu'))\n",
        "\n",
        "# Fill in the layer needed between our 2d convolutional layers and the dense layer\n",
        "CNN_aug_new.add(Flatten())\n",
        "\n",
        "#Specify the number of nodes in the dense layer before the output\n",
        "CNN_aug_new.add(Dense(128, activation='relu'))\n",
        "\n",
        "#Specify the output layer\n",
        "CNN_aug_new.add(Dense(2, activation='softmax'))\n",
        " \n",
        "#Compiling the model\n",
        "CNN_aug_new.compile(loss='categorical_crossentropy', metrics=['accuracy'], optimizer='adam')\n",
        "\n"
      ]
    },
    {
      "cell_type": "code",
      "execution_count": null,
      "metadata": {
        "colab": {
          "background_save": true
        },
        "id": "owz1dZ2PtTnr"
      },
      "outputs": [],
      "source": [
        "CNN_aug_new.load_weights('model_weights.h5')"
      ]
    },
    {
      "cell_type": "code",
      "execution_count": null,
      "metadata": {
        "colab": {
          "background_save": true
        },
        "id": "9CD59UmCtyB8"
      },
      "outputs": [],
      "source": [
        "img = image.load_img('/data/test1/1031.jpg',target_size=(75, 75))\n",
        "img = image.img_to_array(img)\n",
        "img = np.array([img])\n",
        "aug_iter = datagen.flow(img, batch_size=1)\n",
        "prediction=CNN_aug_new.predict(aug_iter)\n",
        "prediction"
      ]
    },
    {
      "cell_type": "code",
      "execution_count": null,
      "metadata": {
        "colab": {
          "background_save": true
        },
        "id": "Z5HfHGxrtbwO"
      },
      "outputs": [],
      "source": [
        "img = image.load_img('/data/test1/1031.jpg',target_size=(75, 75))\n",
        "plt.imshow(img)\n",
        "#tells label of the image\n",
        "plt.title('cat' if np.argmax(prediction)==0 else \"dog\")"
      ]
    }
  ],
  "metadata": {
    "colab": {
      "provenance": []
    },
    "gpuClass": "standard",
    "kernelspec": {
      "display_name": "Python 3",
      "language": "python",
      "name": "python3"
    },
    "language_info": {
      "codemirror_mode": {
        "name": "ipython",
        "version": 3
      },
      "file_extension": ".py",
      "mimetype": "text/x-python",
      "name": "python",
      "nbconvert_exporter": "python",
      "pygments_lexer": "ipython3",
      "version": "3.7.6"
    }
  },
  "nbformat": 4,
  "nbformat_minor": 0
}